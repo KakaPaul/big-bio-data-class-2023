{
 "cells": [
  {
   "cell_type": "markdown",
   "metadata": {
    "id": "QjhxZHa4XZrg"
   },
   "source": [
    "Pandas Assignment\n",
    "\n",
    "Student Name: **KAKANDE Paul**\n",
    "\n",
    "Reg No: **2022/HD07/2044U**\n",
    "\n",
    "Instructions:\n",
    "Please complete the questions below.\n",
    "Please comment your code indicating how you approached the problem"
   ]
  },
  {
   "cell_type": "code",
   "execution_count": 1,
   "metadata": {},
   "outputs": [],
   "source": [
    "# Importing required packages\n",
    "import numpy as np #imports the numpy package and sets np as its alias\n",
    "import pandas as pd #imports the pandas packages and sets pd as its alias"
   ]
  },
  {
   "cell_type": "markdown",
   "metadata": {
    "id": "dzFp6JEGY-U2"
   },
   "source": [
    "## Introduction to Pandas"
   ]
  },
  {
   "cell_type": "code",
   "execution_count": 2,
   "metadata": {
    "id": "BTAGt12UXCSg"
   },
   "outputs": [],
   "source": [
    "#Create a Pandas Series object containing the following data: 5, 10, 15, 20, 25. What is the average of the values in the Series?"
   ]
  },
  {
   "cell_type": "markdown",
   "metadata": {},
   "source": [
    "#### Creating a Pandas Series object\n",
    "A Pandas Series object is created using the `Series` data structure of the library.\n",
    "- `pd.Series(data, index=index)` where `data` can be a list of NumPy array and `index` is an optional argument which defaults to an integer sequence starting at 0 with step=1.\n",
    "- where the `data` provided is a dictionary, the `index` defaults to its keys.\n",
    "\n",
    "For a series object named `p_series` with data `5, 10, 15, 20, 25`;\n",
    "- `p_series` = pd.Series([5, 10, 15, 20, 25]) creates the seried object with the data.\n",
    "\n",
    "#### Finding the average of the values in the Series, `p_series`\n",
    "To find the average of the `Series`, we use the `pandas.Series.mean()` method.\n",
    "\n",
    "For the above series, `p_series.mean()` would return the average of the Series.\n",
    "\n",
    "The code block below shows the processes described:"
   ]
  },
  {
   "cell_type": "code",
   "execution_count": 3,
   "metadata": {},
   "outputs": [
    {
     "name": "stdout",
     "output_type": "stream",
     "text": [
      "Series object:\n",
      "0     5\n",
      "1    10\n",
      "2    15\n",
      "3    20\n",
      "4    25\n",
      "dtype: int64\n",
      "Average of series:  15.0\n"
     ]
    }
   ],
   "source": [
    "# Creating the pandas object with data 5, 10, 15, 20, 25\n",
    "p_series = pd.Series([5, 10, 15, 20, 25])\n",
    "\n",
    "# Finding the average of the p_series\n",
    "p_avg = p_series.mean()\n",
    "\n",
    "# Displaying the results\n",
    "print(\"Series object:\")\n",
    "print(p_series)\n",
    "print(\"Average of series: \", p_avg)"
   ]
  },
  {
   "cell_type": "code",
   "execution_count": 4,
   "metadata": {
    "id": "r_2GlShpZCY0"
   },
   "outputs": [],
   "source": [
    "#Create a Pandas DataFrame object containing the following data: {'Name': ['Alice', 'Bob', 'Charlie'], 'Age': [25, 30, 35], 'Salary': [50000, 60000, 70000]}. What is the total salary of all employees?"
   ]
  },
  {
   "cell_type": "markdown",
   "metadata": {},
   "source": [
    "#### Creating a Pandas DataFrame object\n",
    "The is created using the python `pandas.DataFrame()` method.\n",
    "\n",
    "For data: `{'Name': ['Alice', 'Bob', 'Charlie'], 'Age': [25, 30, 35], 'Salary': [50000, 60000, 70000]}`;\n",
    "Dataframe object, `p_dataframe = pd.DataFrame({'Name': ['Alice', 'Bob', 'Charlie'], 'Age': [25, 30, 35], 'Salary': [50000, 60000, 70000]})`.\n",
    "\n",
    "#### Finding the total salary of all employees.\n",
    "This can be calculated using the `data_frame.column.sum()` function as `p_dataframe.Salary.sum()`\n",
    "\n",
    "Solution is provided in the code block below:"
   ]
  },
  {
   "cell_type": "code",
   "execution_count": 5,
   "metadata": {},
   "outputs": [
    {
     "name": "stdout",
     "output_type": "stream",
     "text": [
      "DataFrame:\n",
      "        Name  Age  Salary\n",
      "0    Alice   25   50000\n",
      "1      Bob   30   60000\n",
      "2  Charlie   35   70000\n",
      "Total Salary:  180000\n"
     ]
    }
   ],
   "source": [
    "# Creating the DataFrame object\n",
    "p_dataframe = pd.DataFrame({'Name': ['Alice', 'Bob', 'Charlie'], 'Age': [25, 30, 35], 'Salary': [50000, 60000, 70000]})\n",
    "\n",
    "# Calculating the total salary of all employees.\n",
    "total_salary = p_dataframe.Salary.sum()\n",
    "\n",
    "# Printing out the results.\n",
    "print(\"DataFrame:\\n \", p_dataframe)\n",
    "print(\"Total Salary: \", total_salary)"
   ]
  },
  {
   "cell_type": "markdown",
   "metadata": {
    "id": "yhIUNmfGZG9l"
   },
   "source": [
    "## DataFrames and Series"
   ]
  },
  {
   "cell_type": "code",
   "execution_count": 6,
   "metadata": {
    "id": "h9-hguvpZKVF"
   },
   "outputs": [],
   "source": [
    "#Create a Pandas Series object containing the following data: [1, 2, 3, 4, 5]. Add 10 to each value in the Series."
   ]
  },
  {
   "cell_type": "markdown",
   "metadata": {},
   "source": [
    "#### Solution"
   ]
  },
  {
   "cell_type": "code",
   "execution_count": 7,
   "metadata": {},
   "outputs": [
    {
     "name": "stdout",
     "output_type": "stream",
     "text": [
      "Series:\n",
      "0    1\n",
      "1    2\n",
      "2    3\n",
      "3    4\n",
      "4    5\n",
      "dtype: int64 \n",
      "\n",
      "Series plus 10:\n",
      "0    11\n",
      "1    12\n",
      "2    13\n",
      "3    14\n",
      "4    15\n",
      "dtype: int64\n"
     ]
    }
   ],
   "source": [
    "# Creating a Pandas Series object\n",
    "p_series = pd.Series([1, 2, 3, 4, 5])\n",
    "\n",
    "# Adding 10 to each value in the Series\n",
    "p_series_plus_10 = p_series + 10\n",
    "\n",
    "# Displaying the results\n",
    "print(\"Series:\")\n",
    "print(p_series, '\\n')\n",
    "print(\"Series plus 10:\")\n",
    "print(p_series_plus_10)"
   ]
  },
  {
   "cell_type": "code",
   "execution_count": 8,
   "metadata": {
    "id": "fwEQ6vAJZPwt"
   },
   "outputs": [],
   "source": [
    "#Create a Pandas DataFrame object containing the following data: {'Name': ['Alice', 'Bob', 'Charlie'], 'Age': [25, 30, 35], 'Salary': [50000, 60000, 70000]}. Select only the rows where the Age is greater than 30."
   ]
  },
  {
   "cell_type": "markdown",
   "metadata": {},
   "source": [
    "#### Creating the DataFrame Object\n",
    "This is done using the `pandas.DataFrame()` method.\n",
    "- `p_df = pd.DataFrame({'Name': ['Alice', 'Bob', 'Charlie'], 'Age': [25, 30, 35], 'Salary': [50000, 60000, 70000]})` \n",
    "\n",
    "#### Selecting only the rows where the Age is greater than 30\n",
    "This can be accomplished by `p_df_gt_30 = p_df[p_df['Age']>30]` for dataframe `p_df` where:\n",
    "- `p_df['Age']>30` selects the `Age` column of dataframe `p_df` and creates a mask that returns a list of boolean values with `True` if value of Age is greater than 30 and `False` otherwise.\n",
    "- Indexing `p_df` with the returned list above as in `p_df[p_df['Age']>30]` returns only the rows that correlate to the same index as the indices of the `True` values in the boolean list.\n",
    "    \n",
    "The solution is as shown in the code block below:"
   ]
  },
  {
   "cell_type": "code",
   "execution_count": 9,
   "metadata": {},
   "outputs": [
    {
     "name": "stdout",
     "output_type": "stream",
     "text": [
      "Whole DataFrame:\n",
      "      Name  Age  Salary\n",
      "0    Alice   25   50000\n",
      "1      Bob   30   60000\n",
      "2  Charlie   35   70000 \n",
      "\n",
      "Rows where Age is greater than 30:\n",
      "      Name  Age  Salary\n",
      "2  Charlie   35   70000\n"
     ]
    }
   ],
   "source": [
    "# Creating a Pandas DataFrame object containing data: {'Name': ['Alice', 'Bob', 'Charlie'], 'Age': [25, 30, 35], 'Salary': [50000, 60000, 70000]}\n",
    "p_df = pd.DataFrame({'Name': ['Alice', 'Bob', 'Charlie'], 'Age': [25, 30, 35], 'Salary': [50000, 60000, 70000]})\n",
    "\n",
    "# Selecting only the rows where Age is greater than 30\n",
    "p_df_gt_30 = p_df[p_df['Age']>30]\n",
    "\n",
    "# Displaying the results\n",
    "print(\"Whole DataFrame:\")\n",
    "print(p_df, '\\n')\n",
    "print(\"Rows where Age is greater than 30:\")\n",
    "print(p_df_gt_30)"
   ]
  },
  {
   "cell_type": "markdown",
   "metadata": {
    "id": "nDrPzc3tZVCc"
   },
   "source": [
    "## Loading Data into Pandas"
   ]
  },
  {
   "cell_type": "code",
   "execution_count": 10,
   "metadata": {
    "id": "sdNPXVUWZZ_i"
   },
   "outputs": [],
   "source": [
    "#Load a CSV file named 'diabetes.csv' into a Pandas DataFrame object. What are the names of the columns in the DataFrame?\n",
    "#Please check your data folder for this dataset"
   ]
  },
  {
   "cell_type": "code",
   "execution_count": 11,
   "metadata": {},
   "outputs": [
    {
     "name": "stdout",
     "output_type": "stream",
     "text": [
      "Names of the columns in the DataFrame:\n",
      " ['Pregnancies', 'Glucose', 'BloodPressure', 'SkinThickness', 'Insulin', 'BMI', 'DiabetesPedigreeFunction', 'Age', 'Outcome']\n"
     ]
    }
   ],
   "source": [
    "# Reading the csv file.\n",
    "df_diabetes = pd.read_csv(\"../../Data/Diabetes/diabetes.csv\") # This is done using the `pd.read_csv` method.\n",
    "\n",
    "# Displaying the names of columns in the DataFrame\n",
    "print(\"Names of the columns in the DataFrame:\\n\", list(df_diabetes.columns)) # The column names are displayed using the columns attribute of the DataFrame"
   ]
  },
  {
   "cell_type": "code",
   "execution_count": 12,
   "metadata": {
    "id": "Xc9EYfEqZiG_"
   },
   "outputs": [
    {
     "data": {
      "text/plain": [
       "(768, 9)"
      ]
     },
     "execution_count": 12,
     "metadata": {},
     "output_type": "execute_result"
    }
   ],
   "source": [
    "#Display the dimensions of the data\n",
    "# Here, we use the shape attribute of the DataFrame\n",
    "df_diabetes.shape"
   ]
  },
  {
   "cell_type": "code",
   "execution_count": 13,
   "metadata": {
    "id": "4a5FAPN_ZlRJ"
   },
   "outputs": [],
   "source": [
    "#Display the top 10 rows"
   ]
  },
  {
   "cell_type": "markdown",
   "metadata": {},
   "source": [
    "#### Displaying the first 10 rows.\n",
    "This is achieved using the `df.head(n)` method of a DataFrame where:\n",
    "- `df` is the DataFrame\n",
    "- `head()` is the method to display rows from the top of the DataFrame\n",
    "- `n` is an integer representing the number of rows to be displayed from the top. This is optional and it defaults to 5.\n",
    "\n",
    "How it is used is shown in the code block below:"
   ]
  },
  {
   "cell_type": "code",
   "execution_count": 14,
   "metadata": {},
   "outputs": [
    {
     "data": {
      "text/html": [
       "<div>\n",
       "<style scoped>\n",
       "    .dataframe tbody tr th:only-of-type {\n",
       "        vertical-align: middle;\n",
       "    }\n",
       "\n",
       "    .dataframe tbody tr th {\n",
       "        vertical-align: top;\n",
       "    }\n",
       "\n",
       "    .dataframe thead th {\n",
       "        text-align: right;\n",
       "    }\n",
       "</style>\n",
       "<table border=\"1\" class=\"dataframe\">\n",
       "  <thead>\n",
       "    <tr style=\"text-align: right;\">\n",
       "      <th></th>\n",
       "      <th>Pregnancies</th>\n",
       "      <th>Glucose</th>\n",
       "      <th>BloodPressure</th>\n",
       "      <th>SkinThickness</th>\n",
       "      <th>Insulin</th>\n",
       "      <th>BMI</th>\n",
       "      <th>DiabetesPedigreeFunction</th>\n",
       "      <th>Age</th>\n",
       "      <th>Outcome</th>\n",
       "    </tr>\n",
       "  </thead>\n",
       "  <tbody>\n",
       "    <tr>\n",
       "      <th>0</th>\n",
       "      <td>6</td>\n",
       "      <td>148</td>\n",
       "      <td>72</td>\n",
       "      <td>35</td>\n",
       "      <td>0</td>\n",
       "      <td>33.6</td>\n",
       "      <td>0.627</td>\n",
       "      <td>50</td>\n",
       "      <td>1</td>\n",
       "    </tr>\n",
       "    <tr>\n",
       "      <th>1</th>\n",
       "      <td>1</td>\n",
       "      <td>85</td>\n",
       "      <td>66</td>\n",
       "      <td>29</td>\n",
       "      <td>0</td>\n",
       "      <td>26.6</td>\n",
       "      <td>0.351</td>\n",
       "      <td>31</td>\n",
       "      <td>0</td>\n",
       "    </tr>\n",
       "    <tr>\n",
       "      <th>2</th>\n",
       "      <td>8</td>\n",
       "      <td>183</td>\n",
       "      <td>64</td>\n",
       "      <td>0</td>\n",
       "      <td>0</td>\n",
       "      <td>23.3</td>\n",
       "      <td>0.672</td>\n",
       "      <td>32</td>\n",
       "      <td>1</td>\n",
       "    </tr>\n",
       "    <tr>\n",
       "      <th>3</th>\n",
       "      <td>1</td>\n",
       "      <td>89</td>\n",
       "      <td>66</td>\n",
       "      <td>23</td>\n",
       "      <td>94</td>\n",
       "      <td>28.1</td>\n",
       "      <td>0.167</td>\n",
       "      <td>21</td>\n",
       "      <td>0</td>\n",
       "    </tr>\n",
       "    <tr>\n",
       "      <th>4</th>\n",
       "      <td>0</td>\n",
       "      <td>137</td>\n",
       "      <td>40</td>\n",
       "      <td>35</td>\n",
       "      <td>168</td>\n",
       "      <td>43.1</td>\n",
       "      <td>2.288</td>\n",
       "      <td>33</td>\n",
       "      <td>1</td>\n",
       "    </tr>\n",
       "    <tr>\n",
       "      <th>5</th>\n",
       "      <td>5</td>\n",
       "      <td>116</td>\n",
       "      <td>74</td>\n",
       "      <td>0</td>\n",
       "      <td>0</td>\n",
       "      <td>25.6</td>\n",
       "      <td>0.201</td>\n",
       "      <td>30</td>\n",
       "      <td>0</td>\n",
       "    </tr>\n",
       "    <tr>\n",
       "      <th>6</th>\n",
       "      <td>3</td>\n",
       "      <td>78</td>\n",
       "      <td>50</td>\n",
       "      <td>32</td>\n",
       "      <td>88</td>\n",
       "      <td>31.0</td>\n",
       "      <td>0.248</td>\n",
       "      <td>26</td>\n",
       "      <td>1</td>\n",
       "    </tr>\n",
       "    <tr>\n",
       "      <th>7</th>\n",
       "      <td>10</td>\n",
       "      <td>115</td>\n",
       "      <td>0</td>\n",
       "      <td>0</td>\n",
       "      <td>0</td>\n",
       "      <td>35.3</td>\n",
       "      <td>0.134</td>\n",
       "      <td>29</td>\n",
       "      <td>0</td>\n",
       "    </tr>\n",
       "    <tr>\n",
       "      <th>8</th>\n",
       "      <td>2</td>\n",
       "      <td>197</td>\n",
       "      <td>70</td>\n",
       "      <td>45</td>\n",
       "      <td>543</td>\n",
       "      <td>30.5</td>\n",
       "      <td>0.158</td>\n",
       "      <td>53</td>\n",
       "      <td>1</td>\n",
       "    </tr>\n",
       "    <tr>\n",
       "      <th>9</th>\n",
       "      <td>8</td>\n",
       "      <td>125</td>\n",
       "      <td>96</td>\n",
       "      <td>0</td>\n",
       "      <td>0</td>\n",
       "      <td>0.0</td>\n",
       "      <td>0.232</td>\n",
       "      <td>54</td>\n",
       "      <td>1</td>\n",
       "    </tr>\n",
       "  </tbody>\n",
       "</table>\n",
       "</div>"
      ],
      "text/plain": [
       "   Pregnancies  Glucose  BloodPressure  SkinThickness  Insulin   BMI  \\\n",
       "0            6      148             72             35        0  33.6   \n",
       "1            1       85             66             29        0  26.6   \n",
       "2            8      183             64              0        0  23.3   \n",
       "3            1       89             66             23       94  28.1   \n",
       "4            0      137             40             35      168  43.1   \n",
       "5            5      116             74              0        0  25.6   \n",
       "6            3       78             50             32       88  31.0   \n",
       "7           10      115              0              0        0  35.3   \n",
       "8            2      197             70             45      543  30.5   \n",
       "9            8      125             96              0        0   0.0   \n",
       "\n",
       "   DiabetesPedigreeFunction  Age  Outcome  \n",
       "0                     0.627   50        1  \n",
       "1                     0.351   31        0  \n",
       "2                     0.672   32        1  \n",
       "3                     0.167   21        0  \n",
       "4                     2.288   33        1  \n",
       "5                     0.201   30        0  \n",
       "6                     0.248   26        1  \n",
       "7                     0.134   29        0  \n",
       "8                     0.158   53        1  \n",
       "9                     0.232   54        1  "
      ]
     },
     "execution_count": 14,
     "metadata": {},
     "output_type": "execute_result"
    }
   ],
   "source": [
    "df_diabetes.head(10)"
   ]
  },
  {
   "cell_type": "code",
   "execution_count": 15,
   "metadata": {
    "id": "kXh8GQx6ZosC"
   },
   "outputs": [],
   "source": [
    "#Display the last 10 rows"
   ]
  },
  {
   "cell_type": "markdown",
   "metadata": {},
   "source": [
    "#### Displaying the last 10 rows.\n",
    "This is achieved using the `df.tail(n)` method of a DataFrame where:\n",
    "- `df` is the DataFrame\n",
    "- `tail()` is the method to display the rows from the bottom of the DataFrame\n",
    "- `n` is an integer representing the number of rows to be displayed. This is optional and it defaults to 5.\n",
    "\n",
    "How it is used is shown in the code block below:"
   ]
  },
  {
   "cell_type": "code",
   "execution_count": 16,
   "metadata": {},
   "outputs": [
    {
     "data": {
      "text/html": [
       "<div>\n",
       "<style scoped>\n",
       "    .dataframe tbody tr th:only-of-type {\n",
       "        vertical-align: middle;\n",
       "    }\n",
       "\n",
       "    .dataframe tbody tr th {\n",
       "        vertical-align: top;\n",
       "    }\n",
       "\n",
       "    .dataframe thead th {\n",
       "        text-align: right;\n",
       "    }\n",
       "</style>\n",
       "<table border=\"1\" class=\"dataframe\">\n",
       "  <thead>\n",
       "    <tr style=\"text-align: right;\">\n",
       "      <th></th>\n",
       "      <th>Pregnancies</th>\n",
       "      <th>Glucose</th>\n",
       "      <th>BloodPressure</th>\n",
       "      <th>SkinThickness</th>\n",
       "      <th>Insulin</th>\n",
       "      <th>BMI</th>\n",
       "      <th>DiabetesPedigreeFunction</th>\n",
       "      <th>Age</th>\n",
       "      <th>Outcome</th>\n",
       "    </tr>\n",
       "  </thead>\n",
       "  <tbody>\n",
       "    <tr>\n",
       "      <th>758</th>\n",
       "      <td>1</td>\n",
       "      <td>106</td>\n",
       "      <td>76</td>\n",
       "      <td>0</td>\n",
       "      <td>0</td>\n",
       "      <td>37.5</td>\n",
       "      <td>0.197</td>\n",
       "      <td>26</td>\n",
       "      <td>0</td>\n",
       "    </tr>\n",
       "    <tr>\n",
       "      <th>759</th>\n",
       "      <td>6</td>\n",
       "      <td>190</td>\n",
       "      <td>92</td>\n",
       "      <td>0</td>\n",
       "      <td>0</td>\n",
       "      <td>35.5</td>\n",
       "      <td>0.278</td>\n",
       "      <td>66</td>\n",
       "      <td>1</td>\n",
       "    </tr>\n",
       "    <tr>\n",
       "      <th>760</th>\n",
       "      <td>2</td>\n",
       "      <td>88</td>\n",
       "      <td>58</td>\n",
       "      <td>26</td>\n",
       "      <td>16</td>\n",
       "      <td>28.4</td>\n",
       "      <td>0.766</td>\n",
       "      <td>22</td>\n",
       "      <td>0</td>\n",
       "    </tr>\n",
       "    <tr>\n",
       "      <th>761</th>\n",
       "      <td>9</td>\n",
       "      <td>170</td>\n",
       "      <td>74</td>\n",
       "      <td>31</td>\n",
       "      <td>0</td>\n",
       "      <td>44.0</td>\n",
       "      <td>0.403</td>\n",
       "      <td>43</td>\n",
       "      <td>1</td>\n",
       "    </tr>\n",
       "    <tr>\n",
       "      <th>762</th>\n",
       "      <td>9</td>\n",
       "      <td>89</td>\n",
       "      <td>62</td>\n",
       "      <td>0</td>\n",
       "      <td>0</td>\n",
       "      <td>22.5</td>\n",
       "      <td>0.142</td>\n",
       "      <td>33</td>\n",
       "      <td>0</td>\n",
       "    </tr>\n",
       "    <tr>\n",
       "      <th>763</th>\n",
       "      <td>10</td>\n",
       "      <td>101</td>\n",
       "      <td>76</td>\n",
       "      <td>48</td>\n",
       "      <td>180</td>\n",
       "      <td>32.9</td>\n",
       "      <td>0.171</td>\n",
       "      <td>63</td>\n",
       "      <td>0</td>\n",
       "    </tr>\n",
       "    <tr>\n",
       "      <th>764</th>\n",
       "      <td>2</td>\n",
       "      <td>122</td>\n",
       "      <td>70</td>\n",
       "      <td>27</td>\n",
       "      <td>0</td>\n",
       "      <td>36.8</td>\n",
       "      <td>0.340</td>\n",
       "      <td>27</td>\n",
       "      <td>0</td>\n",
       "    </tr>\n",
       "    <tr>\n",
       "      <th>765</th>\n",
       "      <td>5</td>\n",
       "      <td>121</td>\n",
       "      <td>72</td>\n",
       "      <td>23</td>\n",
       "      <td>112</td>\n",
       "      <td>26.2</td>\n",
       "      <td>0.245</td>\n",
       "      <td>30</td>\n",
       "      <td>0</td>\n",
       "    </tr>\n",
       "    <tr>\n",
       "      <th>766</th>\n",
       "      <td>1</td>\n",
       "      <td>126</td>\n",
       "      <td>60</td>\n",
       "      <td>0</td>\n",
       "      <td>0</td>\n",
       "      <td>30.1</td>\n",
       "      <td>0.349</td>\n",
       "      <td>47</td>\n",
       "      <td>1</td>\n",
       "    </tr>\n",
       "    <tr>\n",
       "      <th>767</th>\n",
       "      <td>1</td>\n",
       "      <td>93</td>\n",
       "      <td>70</td>\n",
       "      <td>31</td>\n",
       "      <td>0</td>\n",
       "      <td>30.4</td>\n",
       "      <td>0.315</td>\n",
       "      <td>23</td>\n",
       "      <td>0</td>\n",
       "    </tr>\n",
       "  </tbody>\n",
       "</table>\n",
       "</div>"
      ],
      "text/plain": [
       "     Pregnancies  Glucose  BloodPressure  SkinThickness  Insulin   BMI  \\\n",
       "758            1      106             76              0        0  37.5   \n",
       "759            6      190             92              0        0  35.5   \n",
       "760            2       88             58             26       16  28.4   \n",
       "761            9      170             74             31        0  44.0   \n",
       "762            9       89             62              0        0  22.5   \n",
       "763           10      101             76             48      180  32.9   \n",
       "764            2      122             70             27        0  36.8   \n",
       "765            5      121             72             23      112  26.2   \n",
       "766            1      126             60              0        0  30.1   \n",
       "767            1       93             70             31        0  30.4   \n",
       "\n",
       "     DiabetesPedigreeFunction  Age  Outcome  \n",
       "758                     0.197   26        0  \n",
       "759                     0.278   66        1  \n",
       "760                     0.766   22        0  \n",
       "761                     0.403   43        1  \n",
       "762                     0.142   33        0  \n",
       "763                     0.171   63        0  \n",
       "764                     0.340   27        0  \n",
       "765                     0.245   30        0  \n",
       "766                     0.349   47        1  \n",
       "767                     0.315   23        0  "
      ]
     },
     "execution_count": 16,
     "metadata": {},
     "output_type": "execute_result"
    }
   ],
   "source": [
    "df_diabetes.tail(10)"
   ]
  },
  {
   "cell_type": "markdown",
   "metadata": {
    "id": "CDKEEmvmZwiq"
   },
   "source": [
    "## Data Cleaning"
   ]
  },
  {
   "cell_type": "code",
   "execution_count": 17,
   "metadata": {
    "id": "PFzUFZrTZzxV"
   },
   "outputs": [],
   "source": [
    "#Create a Pandas DataFrame object containing the following data: {'Name': ['Alice', 'Bob', 'Charlie', 'Dave', 'Eve'], 'Age': [25, 30, None, 35, 40], 'Salary': [50000, None, 70000, 80000, 90000]}. Remove all rows with missing values"
   ]
  },
  {
   "cell_type": "markdown",
   "metadata": {},
   "source": [
    "#### Creating the DataFrame object\n",
    "`df = pd.DataFrame({'Name': ['Alice', 'Bob', 'Charlie', 'Dave', 'Eve'], 'Age': [25, 30, None, 35, 40], 'Salary': [50000, None, 70000, 80000, 90000]})` creates the dataframe.\n",
    "\n",
    "#### Removing all rows with missing values\n",
    "This can be achieved using the dataframe method `dropna()` which has various optional parameters that can be adjusted to achieve our goal including:\n",
    "- `axis` which defaults to 0 meaning drop all **rows** having missing values. Use `axis=1` to do otherwise for columns. Here, we may explicitly use the words `rows` or `columns` as in `axis='columns`.\n",
    "- `inplace` a boolean which specifies whether to modify the `original DataFrame` if value is `True` as in `inplace=True` or not if `False`. This defaults to `False`.\n",
    "\n",
    "For the dataframe `df` above, we can achieve it in various ways as:\n",
    "- `df2 = df.dropna()`\n",
    "- `df3 = df.dropna(axis=0)`\n",
    "- `df4 = df.dropna(axis='rows')`\n",
    "- In the above, the resulting filtered dataframe is assigned to a new variable keeping the original unchanged.\n",
    "- `df.dropna(inplace=True)` # Here the `df` dataframe is modified instead."
   ]
  },
  {
   "cell_type": "code",
   "execution_count": 18,
   "metadata": {},
   "outputs": [
    {
     "name": "stdout",
     "output_type": "stream",
     "text": [
      "Original DataFrame object:\n",
      "      Name   Age   Salary\n",
      "0    Alice  25.0  50000.0\n",
      "1      Bob  30.0      NaN\n",
      "2  Charlie   NaN  70000.0\n",
      "3     Dave  35.0  80000.0\n",
      "4      Eve  40.0  90000.0 \n",
      "\n",
      "DataFrame Object with all rows with missing values removed:\n",
      "    Name   Age   Salary\n",
      "0  Alice  25.0  50000.0\n",
      "3   Dave  35.0  80000.0\n",
      "4    Eve  40.0  90000.0\n"
     ]
    }
   ],
   "source": [
    "# Creating the Pandas DataFrame object\n",
    "df = pd.DataFrame({'Name': ['Alice', 'Bob', 'Charlie', 'Dave', 'Eve'],\n",
    "                   'Age': [25, 30, None, 35, 40], 'Salary': [50000, None, 70000, 80000, 90000]})\n",
    "\n",
    "#Printing out the created object.\n",
    "print(\"Original DataFrame object:\")\n",
    "print(df, \"\\n\")\n",
    "\n",
    "# Removing all rows with missing values\n",
    "df.dropna(inplace=True)\n",
    "\n",
    "# Printing the DataFrame object with all rows with missing values removed\n",
    "print(\"DataFrame Object with all rows with missing values removed:\")\n",
    "print(df)"
   ]
  },
  {
   "cell_type": "code",
   "execution_count": 19,
   "metadata": {
    "id": "PRof8tNzZ34b"
   },
   "outputs": [],
   "source": [
    "#Create a Pandas DataFrame object containing the following data: {'Name': ['Alice', 'Bob', 'Charlie', 'Dave', 'Eve'], 'Age': [25, 30, None, 35, 40], 'Salary': [50000, None, 70000, 80000, 90000]}. Fill all missing values with the average Age and the median Salary."
   ]
  },
  {
   "cell_type": "markdown",
   "metadata": {},
   "source": [
    "#### Creating the Pandas DataFrame object\n",
    "This is created using `df = pd.DataFrame({'Name': ['Alice', 'Bob', 'Charlie', 'Dave', 'Eve'], 'Age': [25, 30, None, 35, 40], 'Salary': [50000, None, 70000, 80000, 90000]})` with `df` variable holding the dataframe.\n",
    "\n",
    "#### Calculating the average Age\n",
    "To calculate average Age, we index the dataframe `df` with `Age` and then apply the method `np.nanmean()` to it which excludes the missing values during calculation as `np.nanmean(df['Age'])`\n",
    "\n",
    "#### Calculating the median Salary\n",
    "This is achieved by indexing the dataframe `df` with `Salary` and applying the `median()` method to it `numpy.nanmedian()` which excludes the missing values during calculation as `np.nanmedian(df['Salary'])`\n",
    "\n",
    "#### Filling in the missing values with the average Age and median Salary\n",
    "This is achieved using the dataframe `fillna()` method which has several parameters including (only those used for this problem listed):\n",
    "- `value` which is optional and defaults to `none`. This captures the value(s) to replace the missing values in the dataframe.\n",
    "- `inplace` an optional boolean parameter that defaults to `False`. If this is set to `True`, it results in the modification of the original dataframe.\n",
    "\n",
    "For the dataframe `df` above, filling in the missing values with the average Age and median Salary can be done by:\n",
    "- `mean_age = np.nanmean(df['Age'])`. This assigns the calculated mean Age to variable`mean_age`.\n",
    "- `median_salary = np.nanmedian(df['Salary'])`. This assigns the calculated median Salary to variable `median_salary`.\n",
    "- `fill_values = {'Age': mean_age, 'Salary': median_salary}`: This creates a dictionary object specifying the fill values for the different columns `Age` and `Salary`.\n",
    "- `df.fillna(value=fill_values, inplace=True)`. This replaces the value in the DataFrame `df` in place.\n",
    "\n",
    "The solution is shown in the code block below:"
   ]
  },
  {
   "cell_type": "code",
   "execution_count": 20,
   "metadata": {},
   "outputs": [
    {
     "name": "stdout",
     "output_type": "stream",
     "text": [
      "Original DataFrame:\n",
      "      Name   Age   Salary\n",
      "0    Alice  25.0  50000.0\n",
      "1      Bob  30.0      NaN\n",
      "2  Charlie   NaN  70000.0\n",
      "3     Dave  35.0  80000.0\n",
      "4      Eve  40.0  90000.0 \n",
      "\n",
      "DataFrame with missing values filled with average Age and median Salary:\n",
      "      Name   Age   Salary\n",
      "0    Alice  25.0  50000.0\n",
      "1      Bob  30.0  75000.0\n",
      "2  Charlie  32.5  70000.0\n",
      "3     Dave  35.0  80000.0\n",
      "4      Eve  40.0  90000.0\n"
     ]
    }
   ],
   "source": [
    "# Creating the DataFrame object\n",
    "df = pd.DataFrame({'Name': ['Alice', 'Bob', 'Charlie', 'Dave', 'Eve'],\n",
    "                   'Age': [25, 30, None, 35, 40], 'Salary': [50000, None, 70000, 80000, 90000]})\n",
    "\n",
    "# Printing out the original dataframe object\n",
    "print(\"Original DataFrame:\")\n",
    "print(df, \"\\n\")\n",
    "\n",
    "# Creating the fill values\n",
    "mean_age = np.nanmean(df['Age'])\n",
    "median_salary = np.nanmedian(df['Salary'])\n",
    "\n",
    "# Putting the fill values into a dictionary object\n",
    "fill_values = {'Age': mean_age, 'Salary': median_salary}\n",
    "\n",
    "# Filling in the missing values with the average Age and median Salary\n",
    "df.fillna(value = fill_values, inplace = True)\n",
    "\n",
    "# Printing out the modified dataframe with missing values filled with average Age and median Salary\n",
    "print(\"DataFrame with missing values filled with average Age and median Salary:\")\n",
    "print(df)"
   ]
  },
  {
   "cell_type": "markdown",
   "metadata": {
    "id": "Dm9ghsopZ8Fb"
   },
   "source": [
    "## Data Exploration"
   ]
  },
  {
   "cell_type": "code",
   "execution_count": null,
   "metadata": {
    "id": "y3MDNAY6Z_xz"
   },
   "outputs": [],
   "source": [
    "#Create a Pandas DataFrame object containing the following data: {'Name': ['Alice', 'Bob', 'Charlie'], 'Age': [25, 30, 35], 'Salary': [50000, 60000, 70000]}. What is the maximum Age and minimum Salary in the DataFrame?"
   ]
  },
  {
   "cell_type": "code",
   "execution_count": null,
   "metadata": {
    "id": "vDlB5kgpaDwE"
   },
   "outputs": [],
   "source": [
    "#Create a Pandas DataFrame object containing the following data: {'Name': ['Alice', 'Bob', 'Charlie'], 'Age': [25, 30, 35], 'Salary': [50000, 60000, 70000]}. Calculate the correlation coefficient between Age and Salary."
   ]
  },
  {
   "cell_type": "markdown",
   "metadata": {
    "id": "l8bPg2etaGNU"
   },
   "source": [
    "## Grouping and Aggregating Data"
   ]
  },
  {
   "cell_type": "code",
   "execution_count": null,
   "metadata": {
    "id": "njbAfs1xaJ4d"
   },
   "outputs": [],
   "source": [
    "#Create a Pandas DataFrame object containing the following data: {'Name': ['Alice', 'Bob', 'Charlie', 'Dave', 'Eve'], 'Age': [25, 30, 35, 25, 30], 'Salary': [50000, 60000, 70000, 80000, 90000]}. Group the DataFrame by Age and calculate the mean Salary for each group."
   ]
  },
  {
   "cell_type": "code",
   "execution_count": null,
   "metadata": {
    "id": "3Ev8WrCQaN0t"
   },
   "outputs": [],
   "source": []
  },
  {
   "cell_type": "markdown",
   "metadata": {
    "id": "uqNLYJGBamsa"
   },
   "source": [
    "## Reshaping Data"
   ]
  },
  {
   "cell_type": "code",
   "execution_count": null,
   "metadata": {
    "id": "nPyItbc6aoPA"
   },
   "outputs": [],
   "source": [
    "#Create a Pandas DataFrame object containing the following data: {'Year': [2019, 2019, 2020, 2020], 'Quarter': ['Q1', 'Q2', 'Q1', 'Q2'], 'Sales': [100, 200, 300, 400]}. Pivot the DataFrame so that the rows are indexed by Year, the columns are indexed by Quarter, and the values are the Sales."
   ]
  },
  {
   "cell_type": "code",
   "execution_count": null,
   "metadata": {
    "id": "7UWE3_NaawLj"
   },
   "outputs": [],
   "source": [
    "#Create a Pandas DataFrame object containing the following data: {'Name': ['Alice', 'Bob', 'Charlie'], 'Gender': ['F', 'M', 'M'], 'Salary 2019': [50000, 60000, 70000], 'Salary 2020': [55000, 65000, 75000]}. Melt the DataFrame so that the variable column contains the years and the value column contains the salaries."
   ]
  },
  {
   "cell_type": "markdown",
   "metadata": {
    "id": "Q7_gHKi5a0bN"
   },
   "source": [
    "## Merging and Joining Data"
   ]
  },
  {
   "cell_type": "code",
   "execution_count": null,
   "metadata": {
    "id": "SPZOaqzIa7Js"
   },
   "outputs": [],
   "source": [
    "#Create two Pandas DataFrame objects, df1 and df2, containing the following data: df1 = {'key': ['A', 'B', 'C', 'D'], 'value': [1, 2, 3, 4]} and df2 = {'key': ['B', 'D', 'E', 'F'], 'value': [5, 6, 7, 8]}. Merge the two DataFrames using an inner join on the 'key' column."
   ]
  },
  {
   "cell_type": "code",
   "execution_count": null,
   "metadata": {
    "id": "Wvey28Jsa_Ws"
   },
   "outputs": [],
   "source": [
    "#Create two Pandas DataFrame objects, df1 and df2, containing the following data: df1 = {'key': ['A', 'B', 'C', 'D'], 'value1': [1, 2, 3, 4]} and df2 = {'key': ['B', 'D', 'E', 'F'], 'value2': [5, 6, 7, 8]}. Perform a left join on df1 and df2 using the 'key' column as the join key."
   ]
  },
  {
   "cell_type": "markdown",
   "metadata": {
    "id": "pYg6Y5SRb1ML"
   },
   "source": [
    "## Mini Pandas Project\n",
    "\n",
    "- Load the CSV file into a Pandas DataFrame object.\n",
    "- Clean the data by removing any rows with missing values and any duplicate rows.\n",
    "- Use NumPy to calculate the mean and standard deviation of the \"births\" column.\n",
    "- Use Pandas to group the data by year and month, and calculate the mean number of births for each group.\n",
    "- Use Matplotlib to create a line plot of the mean number of births per month over time.\n",
    "- Use Pandas to group the data by day of the week, and calculate the mean number of births for each day.\n",
    "- Use Matplotlib to create a bar chart of the mean number of births per day of the week.\n",
    "- Use Pandas to group the data by year, and calculate the total number of births for each year.\n",
    "- Use Matplotlib to create a bar chart of the total number of births per year.\n",
    "\n",
    ">> NOTE: Below is boiler code for you to get started with.Please fill in the missing codes."
   ]
  },
  {
   "cell_type": "code",
   "execution_count": null,
   "metadata": {
    "id": "QWvvcvj4eCyT"
   },
   "outputs": [],
   "source": [
    "import pandas as pd\n",
    "import numpy as np\n",
    "import matplotlib.pyplot as plt\n",
    "\n",
    "# Load the CSV file into a Pandas DataFrame object\n",
    "df = pd.read_csv(\"https://raw.githubusercontent.com/jakevdp/data-CDCbirths/master/births.csv\")\n",
    "\n",
    "# Clean the data by removing any rows with missing values and any duplicate rows\n",
    "df = \n",
    "df = \n",
    "\n",
    "# Use NumPy to calculate the mean and standard deviation of the \"births\" column\n",
    "mean = \n",
    "std_dev = \n",
    "\n",
    "# Use Pandas to group the data by year and month, and calculate the mean number of births for each group\n",
    "df['date'] = pd.to_datetime(df['year']*10000 + df['month']*100 + df['day'], format='%Y%m%d')\n",
    "grouped_by_month = \n",
    "\n",
    "# Use Matplotlib to create a line plot of the mean number of births per month over time\n",
    "plt.plot(grouped_by_month)\n",
    "plt.xlabel('Year-Month')\n",
    "plt.ylabel('Mean Number of Births')\n",
    "plt.title('Mean Number of Births per Month')\n",
    "plt.show()\n",
    "\n",
    "# Use Pandas to group the data by day of the week, and calculate the mean number of births for each day\n",
    "df['day_of_week'] = df['date'].dt.day_name()\n",
    "grouped_by_day_of_week = \n",
    "\n",
    "# Use Matplotlib to create a bar chart of the mean number of births per day of the week\n",
    "plt.bar(grouped_by_day_of_week.index, grouped_by_day_of_week.values)\n",
    "plt.xlabel('Day of the Week')\n",
    "plt.ylabel('Mean Number of Births')\n",
    "plt.title('Mean Number of Births per Day of the Week')\n",
    "plt.show()\n",
    "\n",
    "# Use Pandas to group the data by year, and calculate the total number of births for each year\n",
    "grouped_by_year =\n",
    "\n",
    "# Use Matplotlib to create a bar chart of the total number of births per year\n",
    "plt.bar(grouped_by_year.index, grouped_by_year.values)\n",
    "plt.xlabel('Year')\n",
    "plt.ylabel('Total Number of Births')\n",
    "plt.title('Total Number of Births per Year')\n",
    "plt.show()\n"
   ]
  }
 ],
 "metadata": {
  "colab": {
   "provenance": []
  },
  "kernelspec": {
   "display_name": "Python 3 (ipykernel)",
   "language": "python",
   "name": "python3"
  },
  "language_info": {
   "codemirror_mode": {
    "name": "ipython",
    "version": 3
   },
   "file_extension": ".py",
   "mimetype": "text/x-python",
   "name": "python",
   "nbconvert_exporter": "python",
   "pygments_lexer": "ipython3",
   "version": "3.9.13"
  }
 },
 "nbformat": 4,
 "nbformat_minor": 1
}
