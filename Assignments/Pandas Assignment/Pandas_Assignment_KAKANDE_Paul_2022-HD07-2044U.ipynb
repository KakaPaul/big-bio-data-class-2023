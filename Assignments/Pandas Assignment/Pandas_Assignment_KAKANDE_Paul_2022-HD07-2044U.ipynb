{
 "cells": [
  {
   "cell_type": "markdown",
   "metadata": {
    "id": "QjhxZHa4XZrg"
   },
   "source": [
    "Pandas Assignment\n",
    "\n",
    "Student Name: **KAKANDE Paul**\n",
    "\n",
    "Reg No: **2022/HD07/2044U**\n",
    "\n",
    "Instructions:\n",
    "Please complete the questions below.\n",
    "Please comment your code indicating how you approached the problem"
   ]
  },
  {
   "cell_type": "code",
   "execution_count": 1,
   "metadata": {},
   "outputs": [],
   "source": [
    "# Importing required packages\n",
    "import numpy as np #imports the numpy package and sets np as its alias\n",
    "import pandas as pd #imports the pandas packages and sets pd as its alias"
   ]
  },
  {
   "cell_type": "markdown",
   "metadata": {
    "id": "dzFp6JEGY-U2"
   },
   "source": [
    "## Introduction to Pandas"
   ]
  },
  {
   "cell_type": "code",
   "execution_count": 2,
   "metadata": {
    "id": "BTAGt12UXCSg"
   },
   "outputs": [],
   "source": [
    "#Create a Pandas Series object containing the following data: 5, 10, 15, 20, 25. What is the average of the values in the Series?"
   ]
  },
  {
   "cell_type": "markdown",
   "metadata": {},
   "source": [
    "#### Creating a Pandas Series object\n",
    "A Pandas Series object is created using the `Series` data structure of the library.\n",
    "- `pd.Series(data, index=index)` where `data` can be a list of NumPy array and `index` is an optional argument which defaults to an integer sequence starting at 0 with step=1.\n",
    "- where the `data` provided is a dictionary, the `index` defaults to its keys.\n",
    "\n",
    "For a series object named `p_series` with data `5, 10, 15, 20, 25`;\n",
    "- `p_series` = pd.Series([5, 10, 15, 20, 25]) creates the seried object with the data.\n",
    "\n",
    "#### Finding the average of the values in the Series, `p_series`\n",
    "To find the average of the `Series`, we use the `pandas.Series.mean()` method.\n",
    "\n",
    "For the above series, `p_series.mean()` would return the average of the Series.\n",
    "\n",
    "The code block below shows the processes described:"
   ]
  },
  {
   "cell_type": "code",
   "execution_count": 3,
   "metadata": {},
   "outputs": [
    {
     "name": "stdout",
     "output_type": "stream",
     "text": [
      "Series object:\n",
      "0     5\n",
      "1    10\n",
      "2    15\n",
      "3    20\n",
      "4    25\n",
      "dtype: int64\n",
      "Average of series:  15.0\n"
     ]
    }
   ],
   "source": [
    "# Creating the pandas object with data 5, 10, 15, 20, 25\n",
    "p_series = pd.Series([5, 10, 15, 20, 25])\n",
    "\n",
    "# Finding the average of the p_series\n",
    "p_avg = p_series.mean()\n",
    "\n",
    "# Displaying the results\n",
    "print(\"Series object:\")\n",
    "print(p_series)\n",
    "print(\"Average of series: \", p_avg)"
   ]
  },
  {
   "cell_type": "code",
   "execution_count": 4,
   "metadata": {
    "id": "r_2GlShpZCY0"
   },
   "outputs": [],
   "source": [
    "#Create a Pandas DataFrame object containing the following data: {'Name': ['Alice', 'Bob', 'Charlie'], 'Age': [25, 30, 35], 'Salary': [50000, 60000, 70000]}. What is the total salary of all employees?"
   ]
  },
  {
   "cell_type": "markdown",
   "metadata": {},
   "source": [
    "#### Creating a Pandas DataFrame object\n",
    "The is created using the python `pandas.DataFrame()` method.\n",
    "\n",
    "For data: `{'Name': ['Alice', 'Bob', 'Charlie'], 'Age': [25, 30, 35], 'Salary': [50000, 60000, 70000]}`;\n",
    "Dataframe object, `p_dataframe = pd.DataFrame({'Name': ['Alice', 'Bob', 'Charlie'], 'Age': [25, 30, 35], 'Salary': [50000, 60000, 70000]})`.\n",
    "\n",
    "#### Finding the total salary of all employees.\n",
    "This can be calculated using the `data_frame.column.sum()` function as `p_dataframe.Salary.sum()`\n",
    "\n",
    "Solution is provided in the code block below:"
   ]
  },
  {
   "cell_type": "code",
   "execution_count": 5,
   "metadata": {},
   "outputs": [
    {
     "name": "stdout",
     "output_type": "stream",
     "text": [
      "DataFrame:\n",
      "        Name  Age  Salary\n",
      "0    Alice   25   50000\n",
      "1      Bob   30   60000\n",
      "2  Charlie   35   70000\n",
      "Total Salary:  180000\n"
     ]
    }
   ],
   "source": [
    "# Creating the DataFrame object\n",
    "p_dataframe = pd.DataFrame({'Name': ['Alice', 'Bob', 'Charlie'], 'Age': [25, 30, 35], 'Salary': [50000, 60000, 70000]})\n",
    "\n",
    "# Calculating the total salary of all employees.\n",
    "total_salary = p_dataframe.Salary.sum()\n",
    "\n",
    "# Printing out the results.\n",
    "print(\"DataFrame:\\n \", p_dataframe)\n",
    "print(\"Total Salary: \", total_salary)"
   ]
  },
  {
   "cell_type": "markdown",
   "metadata": {
    "id": "yhIUNmfGZG9l"
   },
   "source": [
    "## DataFrames and Series"
   ]
  },
  {
   "cell_type": "code",
   "execution_count": 6,
   "metadata": {
    "id": "h9-hguvpZKVF"
   },
   "outputs": [],
   "source": [
    "#Create a Pandas Series object containing the following data: [1, 2, 3, 4, 5]. Add 10 to each value in the Series."
   ]
  },
  {
   "cell_type": "markdown",
   "metadata": {},
   "source": [
    "#### Solution"
   ]
  },
  {
   "cell_type": "code",
   "execution_count": 7,
   "metadata": {},
   "outputs": [
    {
     "name": "stdout",
     "output_type": "stream",
     "text": [
      "Series:\n",
      "0    1\n",
      "1    2\n",
      "2    3\n",
      "3    4\n",
      "4    5\n",
      "dtype: int64 \n",
      "\n",
      "Series plus 10:\n",
      "0    11\n",
      "1    12\n",
      "2    13\n",
      "3    14\n",
      "4    15\n",
      "dtype: int64\n"
     ]
    }
   ],
   "source": [
    "# Creating a Pandas Series object\n",
    "p_series = pd.Series([1, 2, 3, 4, 5])\n",
    "\n",
    "# Adding 10 to each value in the Series\n",
    "p_series_plus_10 = p_series + 10\n",
    "\n",
    "# Displaying the results\n",
    "print(\"Series:\")\n",
    "print(p_series, '\\n')\n",
    "print(\"Series plus 10:\")\n",
    "print(p_series_plus_10)"
   ]
  },
  {
   "cell_type": "code",
   "execution_count": 8,
   "metadata": {
    "id": "fwEQ6vAJZPwt"
   },
   "outputs": [],
   "source": [
    "#Create a Pandas DataFrame object containing the following data: {'Name': ['Alice', 'Bob', 'Charlie'], 'Age': [25, 30, 35], 'Salary': [50000, 60000, 70000]}. Select only the rows where the Age is greater than 30."
   ]
  },
  {
   "cell_type": "markdown",
   "metadata": {},
   "source": [
    "#### Creating the DataFrame Object\n",
    "This is done using the `pandas.DataFrame()` method.\n",
    "- `p_df = pd.DataFrame({'Name': ['Alice', 'Bob', 'Charlie'], 'Age': [25, 30, 35], 'Salary': [50000, 60000, 70000]})` \n",
    "\n",
    "#### Selecting only the rows where the Age is greater than 30\n",
    "This can be accomplished by `p_df_gt_30 = p_df[p_df['Age']>30]` for dataframe `p_df` where:\n",
    "- `p_df['Age']>30` selects the `Age` column of dataframe `p_df` and creates a mask that returns a list of boolean values with `True` if value of Age is greater than 30 and `False` otherwise.\n",
    "- Indexing `p_df` with the returned list above as in `p_df[p_df['Age']>30]` returns only the rows that correlate to the same index as the indices of the `True` values in the boolean list.\n",
    "    \n",
    "The solution is as shown in the code block below:"
   ]
  },
  {
   "cell_type": "code",
   "execution_count": 9,
   "metadata": {},
   "outputs": [
    {
     "name": "stdout",
     "output_type": "stream",
     "text": [
      "Whole DataFrame:\n",
      "      Name  Age  Salary\n",
      "0    Alice   25   50000\n",
      "1      Bob   30   60000\n",
      "2  Charlie   35   70000 \n",
      "\n",
      "Rows where Age is greater than 30:\n",
      "      Name  Age  Salary\n",
      "2  Charlie   35   70000\n"
     ]
    }
   ],
   "source": [
    "# Creating a Pandas DataFrame object containing data: {'Name': ['Alice', 'Bob', 'Charlie'], 'Age': [25, 30, 35], 'Salary': [50000, 60000, 70000]}\n",
    "p_df = pd.DataFrame({'Name': ['Alice', 'Bob', 'Charlie'], 'Age': [25, 30, 35], 'Salary': [50000, 60000, 70000]})\n",
    "\n",
    "# Selecting only the rows where Age is greater than 30\n",
    "p_df_gt_30 = p_df[p_df['Age']>30]\n",
    "\n",
    "# Displaying the results\n",
    "print(\"Whole DataFrame:\")\n",
    "print(p_df, '\\n')\n",
    "print(\"Rows where Age is greater than 30:\")\n",
    "print(p_df_gt_30)"
   ]
  },
  {
   "cell_type": "markdown",
   "metadata": {
    "id": "nDrPzc3tZVCc"
   },
   "source": [
    "## Loading Data into Pandas"
   ]
  },
  {
   "cell_type": "code",
   "execution_count": null,
   "metadata": {
    "id": "sdNPXVUWZZ_i"
   },
   "outputs": [],
   "source": [
    "#Load a CSV file named 'diabetes.csv' into a Pandas DataFrame object. What are the names of the columns in the DataFrame?\n",
    "#Please check your data folder for this dataset"
   ]
  },
  {
   "cell_type": "code",
   "execution_count": null,
   "metadata": {
    "id": "Xc9EYfEqZiG_"
   },
   "outputs": [],
   "source": [
    "#Display the dimensions of the data"
   ]
  },
  {
   "cell_type": "code",
   "execution_count": null,
   "metadata": {
    "id": "4a5FAPN_ZlRJ"
   },
   "outputs": [],
   "source": [
    "#Display the top 10 rows"
   ]
  },
  {
   "cell_type": "code",
   "execution_count": null,
   "metadata": {
    "id": "kXh8GQx6ZosC"
   },
   "outputs": [],
   "source": [
    "#Display the last 10 rows"
   ]
  },
  {
   "cell_type": "markdown",
   "metadata": {
    "id": "CDKEEmvmZwiq"
   },
   "source": [
    "## Data Cleaning"
   ]
  },
  {
   "cell_type": "code",
   "execution_count": null,
   "metadata": {
    "id": "PFzUFZrTZzxV"
   },
   "outputs": [],
   "source": [
    "#Create a Pandas DataFrame object containing the following data: {'Name': ['Alice', 'Bob', 'Charlie', 'Dave', 'Eve'], 'Age': [25, 30, None, 35, 40], 'Salary': [50000, None, 70000, 80000, 90000]}. Remove all rows with missing values"
   ]
  },
  {
   "cell_type": "code",
   "execution_count": null,
   "metadata": {
    "id": "PRof8tNzZ34b"
   },
   "outputs": [],
   "source": [
    "#Create a Pandas DataFrame object containing the following data: {'Name': ['Alice', 'Bob', 'Charlie', 'Dave', 'Eve'], 'Age': [25, 30, None, 35, 40], 'Salary': [50000, None, 70000, 80000, 90000]}. Fill all missing values with the average Age and the median Salary."
   ]
  },
  {
   "cell_type": "markdown",
   "metadata": {
    "id": "Dm9ghsopZ8Fb"
   },
   "source": [
    "## Data Exploration"
   ]
  },
  {
   "cell_type": "code",
   "execution_count": null,
   "metadata": {
    "id": "y3MDNAY6Z_xz"
   },
   "outputs": [],
   "source": [
    "#Create a Pandas DataFrame object containing the following data: {'Name': ['Alice', 'Bob', 'Charlie'], 'Age': [25, 30, 35], 'Salary': [50000, 60000, 70000]}. What is the maximum Age and minimum Salary in the DataFrame?"
   ]
  },
  {
   "cell_type": "code",
   "execution_count": null,
   "metadata": {
    "id": "vDlB5kgpaDwE"
   },
   "outputs": [],
   "source": [
    "#Create a Pandas DataFrame object containing the following data: {'Name': ['Alice', 'Bob', 'Charlie'], 'Age': [25, 30, 35], 'Salary': [50000, 60000, 70000]}. Calculate the correlation coefficient between Age and Salary."
   ]
  },
  {
   "cell_type": "markdown",
   "metadata": {
    "id": "l8bPg2etaGNU"
   },
   "source": [
    "## Grouping and Aggregating Data"
   ]
  },
  {
   "cell_type": "code",
   "execution_count": null,
   "metadata": {
    "id": "njbAfs1xaJ4d"
   },
   "outputs": [],
   "source": [
    "#Create a Pandas DataFrame object containing the following data: {'Name': ['Alice', 'Bob', 'Charlie', 'Dave', 'Eve'], 'Age': [25, 30, 35, 25, 30], 'Salary': [50000, 60000, 70000, 80000, 90000]}. Group the DataFrame by Age and calculate the mean Salary for each group."
   ]
  },
  {
   "cell_type": "code",
   "execution_count": null,
   "metadata": {
    "id": "3Ev8WrCQaN0t"
   },
   "outputs": [],
   "source": []
  },
  {
   "cell_type": "markdown",
   "metadata": {
    "id": "uqNLYJGBamsa"
   },
   "source": [
    "## Reshaping Data"
   ]
  },
  {
   "cell_type": "code",
   "execution_count": null,
   "metadata": {
    "id": "nPyItbc6aoPA"
   },
   "outputs": [],
   "source": [
    "#Create a Pandas DataFrame object containing the following data: {'Year': [2019, 2019, 2020, 2020], 'Quarter': ['Q1', 'Q2', 'Q1', 'Q2'], 'Sales': [100, 200, 300, 400]}. Pivot the DataFrame so that the rows are indexed by Year, the columns are indexed by Quarter, and the values are the Sales."
   ]
  },
  {
   "cell_type": "code",
   "execution_count": null,
   "metadata": {
    "id": "7UWE3_NaawLj"
   },
   "outputs": [],
   "source": [
    "#Create a Pandas DataFrame object containing the following data: {'Name': ['Alice', 'Bob', 'Charlie'], 'Gender': ['F', 'M', 'M'], 'Salary 2019': [50000, 60000, 70000], 'Salary 2020': [55000, 65000, 75000]}. Melt the DataFrame so that the variable column contains the years and the value column contains the salaries."
   ]
  },
  {
   "cell_type": "markdown",
   "metadata": {
    "id": "Q7_gHKi5a0bN"
   },
   "source": [
    "## Merging and Joining Data"
   ]
  },
  {
   "cell_type": "code",
   "execution_count": null,
   "metadata": {
    "id": "SPZOaqzIa7Js"
   },
   "outputs": [],
   "source": [
    "#Create two Pandas DataFrame objects, df1 and df2, containing the following data: df1 = {'key': ['A', 'B', 'C', 'D'], 'value': [1, 2, 3, 4]} and df2 = {'key': ['B', 'D', 'E', 'F'], 'value': [5, 6, 7, 8]}. Merge the two DataFrames using an inner join on the 'key' column."
   ]
  },
  {
   "cell_type": "code",
   "execution_count": null,
   "metadata": {
    "id": "Wvey28Jsa_Ws"
   },
   "outputs": [],
   "source": [
    "#Create two Pandas DataFrame objects, df1 and df2, containing the following data: df1 = {'key': ['A', 'B', 'C', 'D'], 'value1': [1, 2, 3, 4]} and df2 = {'key': ['B', 'D', 'E', 'F'], 'value2': [5, 6, 7, 8]}. Perform a left join on df1 and df2 using the 'key' column as the join key."
   ]
  },
  {
   "cell_type": "markdown",
   "metadata": {
    "id": "pYg6Y5SRb1ML"
   },
   "source": [
    "## Mini Pandas Project\n",
    "\n",
    "- Load the CSV file into a Pandas DataFrame object.\n",
    "- Clean the data by removing any rows with missing values and any duplicate rows.\n",
    "- Use NumPy to calculate the mean and standard deviation of the \"births\" column.\n",
    "- Use Pandas to group the data by year and month, and calculate the mean number of births for each group.\n",
    "- Use Matplotlib to create a line plot of the mean number of births per month over time.\n",
    "- Use Pandas to group the data by day of the week, and calculate the mean number of births for each day.\n",
    "- Use Matplotlib to create a bar chart of the mean number of births per day of the week.\n",
    "- Use Pandas to group the data by year, and calculate the total number of births for each year.\n",
    "- Use Matplotlib to create a bar chart of the total number of births per year.\n",
    "\n",
    ">> NOTE: Below is boiler code for you to get started with.Please fill in the missing codes."
   ]
  },
  {
   "cell_type": "code",
   "execution_count": null,
   "metadata": {
    "id": "QWvvcvj4eCyT"
   },
   "outputs": [],
   "source": [
    "import pandas as pd\n",
    "import numpy as np\n",
    "import matplotlib.pyplot as plt\n",
    "\n",
    "# Load the CSV file into a Pandas DataFrame object\n",
    "df = pd.read_csv(\"https://raw.githubusercontent.com/jakevdp/data-CDCbirths/master/births.csv\")\n",
    "\n",
    "# Clean the data by removing any rows with missing values and any duplicate rows\n",
    "df = \n",
    "df = \n",
    "\n",
    "# Use NumPy to calculate the mean and standard deviation of the \"births\" column\n",
    "mean = \n",
    "std_dev = \n",
    "\n",
    "# Use Pandas to group the data by year and month, and calculate the mean number of births for each group\n",
    "df['date'] = pd.to_datetime(df['year']*10000 + df['month']*100 + df['day'], format='%Y%m%d')\n",
    "grouped_by_month = \n",
    "\n",
    "# Use Matplotlib to create a line plot of the mean number of births per month over time\n",
    "plt.plot(grouped_by_month)\n",
    "plt.xlabel('Year-Month')\n",
    "plt.ylabel('Mean Number of Births')\n",
    "plt.title('Mean Number of Births per Month')\n",
    "plt.show()\n",
    "\n",
    "# Use Pandas to group the data by day of the week, and calculate the mean number of births for each day\n",
    "df['day_of_week'] = df['date'].dt.day_name()\n",
    "grouped_by_day_of_week = \n",
    "\n",
    "# Use Matplotlib to create a bar chart of the mean number of births per day of the week\n",
    "plt.bar(grouped_by_day_of_week.index, grouped_by_day_of_week.values)\n",
    "plt.xlabel('Day of the Week')\n",
    "plt.ylabel('Mean Number of Births')\n",
    "plt.title('Mean Number of Births per Day of the Week')\n",
    "plt.show()\n",
    "\n",
    "# Use Pandas to group the data by year, and calculate the total number of births for each year\n",
    "grouped_by_year =\n",
    "\n",
    "# Use Matplotlib to create a bar chart of the total number of births per year\n",
    "plt.bar(grouped_by_year.index, grouped_by_year.values)\n",
    "plt.xlabel('Year')\n",
    "plt.ylabel('Total Number of Births')\n",
    "plt.title('Total Number of Births per Year')\n",
    "plt.show()\n"
   ]
  }
 ],
 "metadata": {
  "colab": {
   "provenance": []
  },
  "kernelspec": {
   "display_name": "Python 3 (ipykernel)",
   "language": "python",
   "name": "python3"
  },
  "language_info": {
   "codemirror_mode": {
    "name": "ipython",
    "version": 3
   },
   "file_extension": ".py",
   "mimetype": "text/x-python",
   "name": "python",
   "nbconvert_exporter": "python",
   "pygments_lexer": "ipython3",
   "version": "3.9.13"
  }
 },
 "nbformat": 4,
 "nbformat_minor": 1
}
